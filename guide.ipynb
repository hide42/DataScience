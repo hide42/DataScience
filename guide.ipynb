{
 "cells": [
  {
   "cell_type": "code",
   "execution_count": 5,
   "metadata": {},
   "outputs": [
    {
     "data": {
      "text/html": [
       "<table class=\"simpletable\">\n",
       "<caption>OLS Regression Results</caption>\n",
       "<tr>\n",
       "  <th>Dep. Variable:</th>            <td>y</td>        <th>  R-squared:         </th> <td>   0.898</td> \n",
       "</tr>\n",
       "<tr>\n",
       "  <th>Model:</th>                   <td>OLS</td>       <th>  Adj. R-squared:    </th> <td>   0.898</td> \n",
       "</tr>\n",
       "<tr>\n",
       "  <th>Method:</th>             <td>Least Squares</td>  <th>  F-statistic:       </th> <td>   2196.</td> \n",
       "</tr>\n",
       "<tr>\n",
       "  <th>Date:</th>             <td>Thu, 26 Apr 2018</td> <th>  Prob (F-statistic):</th> <td>9.37e-248</td>\n",
       "</tr>\n",
       "<tr>\n",
       "  <th>Time:</th>                 <td>15:32:03</td>     <th>  Log-Likelihood:    </th> <td> -174.18</td> \n",
       "</tr>\n",
       "<tr>\n",
       "  <th>No. Observations:</th>      <td>   500</td>      <th>  AIC:               </th> <td>   352.4</td> \n",
       "</tr>\n",
       "<tr>\n",
       "  <th>Df Residuals:</th>          <td>   498</td>      <th>  BIC:               </th> <td>   360.8</td> \n",
       "</tr>\n",
       "<tr>\n",
       "  <th>Df Model:</th>              <td>     2</td>      <th>                     </th>     <td> </td>    \n",
       "</tr>\n",
       "<tr>\n",
       "  <th>Covariance Type:</th>      <td>nonrobust</td>    <th>                     </th>     <td> </td>    \n",
       "</tr>\n",
       "</table>\n",
       "<table class=\"simpletable\">\n",
       "<tr>\n",
       "   <td></td>     <th>coef</th>     <th>std err</th>      <th>t</th>      <th>P>|t|</th>  <th>[0.025</th>    <th>0.975]</th>  \n",
       "</tr>\n",
       "<tr>\n",
       "  <th>x1</th> <td>    0.8232</td> <td>    0.040</td> <td>   20.595</td> <td> 0.000</td> <td>    0.745</td> <td>    0.902</td>\n",
       "</tr>\n",
       "<tr>\n",
       "  <th>x2</th> <td>    1.0595</td> <td>    0.039</td> <td>   26.983</td> <td> 0.000</td> <td>    0.982</td> <td>    1.137</td>\n",
       "</tr>\n",
       "</table>\n",
       "<table class=\"simpletable\">\n",
       "<tr>\n",
       "  <th>Omnibus:</th>       <td>18.645</td> <th>  Durbin-Watson:     </th> <td>   1.839</td>\n",
       "</tr>\n",
       "<tr>\n",
       "  <th>Prob(Omnibus):</th> <td> 0.000</td> <th>  Jarque-Bera (JB):  </th> <td>   8.690</td>\n",
       "</tr>\n",
       "<tr>\n",
       "  <th>Skew:</th>          <td>-0.013</td> <th>  Prob(JB):          </th> <td>  0.0130</td>\n",
       "</tr>\n",
       "<tr>\n",
       "  <th>Kurtosis:</th>      <td> 2.355</td> <th>  Cond. No.          </th> <td>    2.60</td>\n",
       "</tr>\n",
       "</table>"
      ],
      "text/plain": [
       "<class 'statsmodels.iolib.summary.Summary'>\n",
       "\"\"\"\n",
       "                            OLS Regression Results                            \n",
       "==============================================================================\n",
       "Dep. Variable:                      y   R-squared:                       0.898\n",
       "Model:                            OLS   Adj. R-squared:                  0.898\n",
       "Method:                 Least Squares   F-statistic:                     2196.\n",
       "Date:                Thu, 26 Apr 2018   Prob (F-statistic):          9.37e-248\n",
       "Time:                        15:32:03   Log-Likelihood:                -174.18\n",
       "No. Observations:                 500   AIC:                             352.4\n",
       "Df Residuals:                     498   BIC:                             360.8\n",
       "Df Model:                           2                                         \n",
       "Covariance Type:            nonrobust                                         \n",
       "==============================================================================\n",
       "                 coef    std err          t      P>|t|      [0.025      0.975]\n",
       "------------------------------------------------------------------------------\n",
       "x1             0.8232      0.040     20.595      0.000       0.745       0.902\n",
       "x2             1.0595      0.039     26.983      0.000       0.982       1.137\n",
       "==============================================================================\n",
       "Omnibus:                       18.645   Durbin-Watson:                   1.839\n",
       "Prob(Omnibus):                  0.000   Jarque-Bera (JB):                8.690\n",
       "Skew:                          -0.013   Prob(JB):                       0.0130\n",
       "Kurtosis:                       2.355   Cond. No.                         2.60\n",
       "==============================================================================\n",
       "\n",
       "Warnings:\n",
       "[1] Standard Errors assume that the covariance matrix of the errors is correctly specified.\n",
       "\"\"\""
      ]
     },
     "execution_count": 5,
     "metadata": {},
     "output_type": "execute_result"
    }
   ],
   "source": [
    "import statsmodels.api as sm\n",
    "import numpy as np\n",
    "predictors = np.random.random(1000).reshape(500,2) #случайный массив 500х2\n",
    "target = predictors.dot(np.array([0.4,0.6]))+np.random.random(500) \n",
    "lmRegModel = sm.OLS(target,predictors)\n",
    "result = lmRegModel.fit()\n",
    "result.summary()"
   ]
  },
  {
   "cell_type": "code",
   "execution_count": 8,
   "metadata": {},
   "outputs": [
    {
     "data": {
      "text/plain": [
       "0.826"
      ]
     },
     "execution_count": 8,
     "metadata": {},
     "output_type": "execute_result"
    }
   ],
   "source": [
    "from sklearn import neighbors\n",
    "predictors = np.random.random(1000).reshape(500,2)\n",
    "target = np.around(predictors.dot(np.array([0.4,0.6]))+np.random.random(500))\n",
    "clf = neighbors.KNeighborsClassifier(n_neighbors=10)\n",
    "knn = clf.fit(predictors, target)\n",
    "knn.score(predictors, target)"
   ]
  },
  {
   "cell_type": "code",
   "execution_count": 11,
   "metadata": {},
   "outputs": [
    {
     "data": {
      "text/plain": [
       "array([[  9,  27,   0],\n",
       "       [  9, 398,   4],\n",
       "       [  0,  47,   6]], dtype=int64)"
      ]
     },
     "execution_count": 11,
     "metadata": {},
     "output_type": "execute_result"
    }
   ],
   "source": [
    "from sklearn.metrics import confusion_matrix\n",
    "prediction = knn.predict(predictors)\n",
    "confusion_matrix(target,prediction)"
   ]
  },
  {
   "cell_type": "markdown",
   "metadata": {},
   "source": [
    "Главная диагональ показывает , сколько случаев было спрогнозировано правильно.(Столбец - прогнозируемое значение , строка - прогноз , фактическое значение)"
   ]
  },
  {
   "cell_type": "code",
   "execution_count": 6,
   "metadata": {},
   "outputs": [
    {
     "data": {
      "text/plain": [
       "<matplotlib.figure.Figure at 0xaa960b8>"
      ]
     },
     "metadata": {},
     "output_type": "display_data"
    },
    {
     "data": {
      "image/png": "[encoded data removed]",
      "text/plain": [
       "<matplotlib.figure.Figure at 0xaa96b70>"
      ]
     },
     "metadata": {},
     "output_type": "display_data"
    }
   ],
   "source": [
    "from sklearn.datasets import load_digits\n",
    "import pylab as pl\n",
    "digits = load_digits()\n",
    "pl.gray()\n",
    "pl.matshow(digits.images[0])\n",
    "pl.show()"
   ]
  },
  {
   "cell_type": "code",
   "execution_count": 2,
   "metadata": {},
   "outputs": [
    {
     "data": {
      "text/plain": [
       "array([[ 0.,  0.,  5., 13.,  9.,  1.,  0.,  0.],\n",
       "       [ 0.,  0., 13., 15., 10., 15.,  5.,  0.],\n",
       "       [ 0.,  3., 15.,  2.,  0., 11.,  8.,  0.],\n",
       "       [ 0.,  4., 12.,  0.,  0.,  8.,  8.,  0.],\n",
       "       [ 0.,  5.,  8.,  0.,  0.,  9.,  8.,  0.],\n",
       "       [ 0.,  4., 11.,  0.,  1., 12.,  7.,  0.],\n",
       "       [ 0.,  2., 14.,  5., 10., 12.,  0.,  0.],\n",
       "       [ 0.,  0.,  6., 13., 10.,  0.,  0.,  0.]])"
      ]
     },
     "execution_count": 2,
     "metadata": {},
     "output_type": "execute_result"
    }
   ],
   "source": [
    "digits.images[0] #Оттенки серого"
   ]
  },
  {
   "cell_type": "code",
   "execution_count": 9,
   "metadata": {},
   "outputs": [
    {
     "name": "stdout",
     "output_type": "stream",
     "text": [
      "[[ 0.  0.  5. ...  0.  0.  0.]\n",
      " [ 0.  0.  0. ... 10.  0.  0.]\n",
      " [ 0.  0.  0. ... 16.  9.  0.]\n",
      " ...\n",
      " [ 0.  0.  1. ...  6.  0.  0.]\n",
      " [ 0.  0.  2. ... 12.  0.  0.]\n",
      " [ 0.  0. 10. ... 12.  1.  0.]]\n"
     ]
    },
    {
     "data": {
      "text/plain": [
       "array([[37,  0,  0,  0,  0,  0,  0,  0,  0,  0],\n",
       "       [ 0, 39,  0,  0,  0,  0,  0,  0,  4,  0],\n",
       "       [ 0,  7, 20,  2,  0,  0,  0,  0, 15,  0],\n",
       "       [ 0,  0,  0, 39,  0,  0,  0,  1,  5,  0],\n",
       "       [ 0,  1,  0,  0, 31,  0,  0,  6,  0,  0],\n",
       "       [ 0,  1,  0,  1,  0, 43,  0,  3,  0,  0],\n",
       "       [ 0,  0,  1,  0,  0,  0, 51,  0,  0,  0],\n",
       "       [ 0,  0,  0,  0,  1,  0,  0, 47,  0,  0],\n",
       "       [ 0,  6,  0,  1,  0,  1,  0,  2, 38,  0],\n",
       "       [ 0,  2,  0,  4,  1,  0,  0,  3,  7, 30]], dtype=int64)"
      ]
     },
     "execution_count": 9,
     "metadata": {},
     "output_type": "execute_result"
    }
   ],
   "source": [
    "from sklearn.cross_validation import train_test_split\n",
    "from sklearn.naive_bayes import GaussianNB\n",
    "from sklearn.metrics import confusion_matrix\n",
    "import pylab as plt\n",
    "\n",
    "y = digits.target\n",
    "\n",
    "n_samples = len(digits.images)\n",
    "X = digits.images.reshape((n_samples,-1)) #n_samples vectorov \n",
    "#print X\n",
    "\n",
    "X_train, X_test , y_train , y_test = train_test_split(X,y,random_state=0)\n",
    "gnb = GaussianNB()\n",
    "fit = gnb.fit(X_train,y_train)\n",
    "predicted = fit.predict(X_test)\n",
    "confusion_matrix(y_test, predicted)"
   ]
  },
  {
   "cell_type": "markdown",
   "metadata": {},
   "source": [
    "Матрица несоответствий прогнозов , какое число представленно на нечетком изображении.(Столбец - прогнозируемое значение , строка - прогноз , фактическое значение)"
   ]
  },
  {
   "cell_type": "code",
   "execution_count": 46,
   "metadata": {},
   "outputs": [
    {
     "data": {
      "image/png": "[encoded data removed]",
      "text/plain": [
       "<matplotlib.figure.Figure at 0xac2f1d0>"
      ]
     },
     "metadata": {},
     "output_type": "display_data"
    }
   ],
   "source": [
    "images_and_predictions = list(zip(digits.images, fit.predict(X)))\n",
    "for index, (image,prediction) in enumerate(images_and_predictions[:6]):#первые 7\n",
    "    plt.subplot(3,3,index+3)#3х3 матрица с отступом \n",
    "    plt.axis('off')#сетка\n",
    "    plt.imshow(image,cmap=plt.cm.gray_r)#Серый цвет\n",
    "    plt.title('Prediction: %i'%prediction)\n",
    "plt.show();#отображение 7 графиков"
   ]
  },
  {
   "cell_type": "markdown",
   "metadata": {},
   "source": [
    "Вся учебная выборка имеет один размер и содержит 16 оттенков серого , расширив задачу до переменного размера изображений со строками переменной длины и переменным количеством оттенков серого с алфавитно-цифровыми символами на контрольных изображениях , и становится понятно , почему достаточно точной модели для распознавания контрольных изображений еще не существует."
   ]
  },
  {
   "cell_type": "markdown",
   "metadata": {},
   "source": [
    "# Неконтролируемое обучение\n",
    "Выявление скрытых переменных в наборе данных качества вина"
   ]
  },
  {
   "cell_type": "code",
   "execution_count": 2,
   "metadata": {
    "collapsed": true
   },
   "outputs": [],
   "source": [
    "import pandas as pd\n",
    "from sklearn import preprocessing \n",
    "from sklearn.decomposition import PCA\n",
    "import pylab as plt\n",
    "\n",
    "url = 'https://archive.ics.uci.edu/ml/machine-learning-databases/wine-quality/winequality-red.csv'\n",
    "data = pd.read_csv(url,sep=\";\")\n",
    "X=data[[u\"fixed acidity\",u\"volatile acidity\",\n",
    "        u\"citric acid\",u\"residual sugar\",u\"chlorides\",u\"free sulfur dioxide\",\n",
    "        u\"total sulfur dioxide\",u\"density\",u\"pH\",u\"sulphates\",u\"alcohol\"]]\n",
    "y=data.quality #целевая переменная качество из csv\n",
    "X=preprocessing.StandardScaler().fit(X).transform(X)#стандартизация данных"
   ]
  },
  {
   "cell_type": "code",
   "execution_count": 3,
   "metadata": {},
   "outputs": [
    {
     "data": {
      "image/png": "[encoded data removed]",
      "text/plain": [
       "<matplotlib.figure.Figure at 0x3c5b160>"
      ]
     },
     "metadata": {},
     "output_type": "display_data"
    }
   ],
   "source": [
    "model = PCA()\n",
    "results = model.fit(X)#Поиск возможной свертки\n",
    "Z=results.transform(X)#Преобразование в массив для использования в дальнейшем\n",
    "plt.plot(results.explained_variance_)#график каменистой осыпи\n",
    "plt.show()"
   ]
  },
  {
   "cell_type": "markdown",
   "metadata": {},
   "source": [
    "График каменистой осыпи PCA демонстрирует предельную величину информации , которую создает каждая новая переменная. Первые переменные объясняют приблизительно 28% информации , 2 добавляет еще 17 , третья 15 и т д. 5 скрытых переменных дают нам 77% информации.\n"
   ]
  },
  {
   "cell_type": "code",
   "execution_count": 13,
   "metadata": {
    "scrolled": true
   },
   "outputs": [
    {
     "data": {
      "text/html": [
       "<div>\n",
       "<style>\n",
       "    .dataframe thead tr:only-child th {\n",
       "        text-align: right;\n",
       "    }\n",
       "\n",
       "    .dataframe thead th {\n",
       "        text-align: left;\n",
       "    }\n",
       "\n",
       "    .dataframe tbody tr th {\n",
       "        vertical-align: top;\n",
       "    }\n",
       "</style>\n",
       "<table border=\"1\" class=\"dataframe\">\n",
       "  <thead>\n",
       "    <tr style=\"text-align: right;\">\n",
       "      <th></th>\n",
       "      <th>fixed acidity</th>\n",
       "      <th>volatile acidity</th>\n",
       "      <th>citric acid</th>\n",
       "      <th>residual sugar</th>\n",
       "      <th>chlorides</th>\n",
       "      <th>free sulfur dioxide</th>\n",
       "      <th>total sulfur dioxide</th>\n",
       "      <th>density</th>\n",
       "      <th>pH</th>\n",
       "      <th>sulphates</th>\n",
       "      <th>alcohol</th>\n",
       "    </tr>\n",
       "  </thead>\n",
       "  <tbody>\n",
       "    <tr>\n",
       "      <th>0</th>\n",
       "      <td>0.489314</td>\n",
       "      <td>-0.238584</td>\n",
       "      <td>0.463632</td>\n",
       "      <td>0.146107</td>\n",
       "      <td>0.212247</td>\n",
       "      <td>-0.036158</td>\n",
       "      <td>0.023575</td>\n",
       "      <td>0.395353</td>\n",
       "      <td>-0.438520</td>\n",
       "      <td>0.242921</td>\n",
       "      <td>-0.113232</td>\n",
       "    </tr>\n",
       "    <tr>\n",
       "      <th>1</th>\n",
       "      <td>-0.110503</td>\n",
       "      <td>0.274930</td>\n",
       "      <td>-0.151791</td>\n",
       "      <td>0.272080</td>\n",
       "      <td>0.148052</td>\n",
       "      <td>0.513567</td>\n",
       "      <td>0.569487</td>\n",
       "      <td>0.233575</td>\n",
       "      <td>0.006711</td>\n",
       "      <td>-0.037554</td>\n",
       "      <td>-0.386181</td>\n",
       "    </tr>\n",
       "    <tr>\n",
       "      <th>2</th>\n",
       "      <td>-0.123302</td>\n",
       "      <td>-0.449963</td>\n",
       "      <td>0.238247</td>\n",
       "      <td>0.101283</td>\n",
       "      <td>-0.092614</td>\n",
       "      <td>0.428793</td>\n",
       "      <td>0.322415</td>\n",
       "      <td>-0.338871</td>\n",
       "      <td>0.057697</td>\n",
       "      <td>0.279786</td>\n",
       "      <td>0.471673</td>\n",
       "    </tr>\n",
       "    <tr>\n",
       "      <th>3</th>\n",
       "      <td>-0.229617</td>\n",
       "      <td>0.078960</td>\n",
       "      <td>-0.079418</td>\n",
       "      <td>-0.372793</td>\n",
       "      <td>0.666195</td>\n",
       "      <td>-0.043538</td>\n",
       "      <td>-0.034577</td>\n",
       "      <td>-0.174500</td>\n",
       "      <td>-0.003788</td>\n",
       "      <td>0.550872</td>\n",
       "      <td>-0.122181</td>\n",
       "    </tr>\n",
       "    <tr>\n",
       "      <th>4</th>\n",
       "      <td>-0.082614</td>\n",
       "      <td>0.218735</td>\n",
       "      <td>-0.058573</td>\n",
       "      <td>0.732144</td>\n",
       "      <td>0.246501</td>\n",
       "      <td>-0.159152</td>\n",
       "      <td>-0.222465</td>\n",
       "      <td>0.157077</td>\n",
       "      <td>0.267530</td>\n",
       "      <td>0.225962</td>\n",
       "      <td>0.350681</td>\n",
       "    </tr>\n",
       "  </tbody>\n",
       "</table>\n",
       "</div>"
      ],
      "text/plain": [
       "   fixed acidity  volatile acidity  citric acid  residual sugar  chlorides  \\\n",
       "0       0.489314         -0.238584     0.463632        0.146107   0.212247   \n",
       "1      -0.110503          0.274930    -0.151791        0.272080   0.148052   \n",
       "2      -0.123302         -0.449963     0.238247        0.101283  -0.092614   \n",
       "3      -0.229617          0.078960    -0.079418       -0.372793   0.666195   \n",
       "4      -0.082614          0.218735    -0.058573        0.732144   0.246501   \n",
       "\n",
       "   free sulfur dioxide  total sulfur dioxide   density        pH  sulphates  \\\n",
       "0            -0.036158              0.023575  0.395353 -0.438520   0.242921   \n",
       "1             0.513567              0.569487  0.233575  0.006711  -0.037554   \n",
       "2             0.428793              0.322415 -0.338871  0.057697   0.279786   \n",
       "3            -0.043538             -0.034577 -0.174500 -0.003788   0.550872   \n",
       "4            -0.159152             -0.222465  0.157077  0.267530   0.225962   \n",
       "\n",
       "    alcohol  \n",
       "0 -0.113232  \n",
       "1 -0.386181  \n",
       "2  0.471673  \n",
       "3 -0.122181  \n",
       "4  0.350681  "
      ]
     },
     "execution_count": 13,
     "metadata": {},
     "output_type": "execute_result"
    }
   ],
   "source": [
    "model = PCA(n_components = 5)\n",
    "results = model.fit(X)#Поиск возможной свертки\n",
    "#Вывод компонент PCA во фрейме данных Pandas\n",
    "pd.DataFrame(results.components_,columns=list([u\"fixed acidity\",u\"volatile acidity\",\n",
    "        u\"citric acid\",u\"residual sugar\",u\"chlorides\",u\"free sulfur dioxide\",\n",
    "        u\"total sulfur dioxide\",u\"density\",u\"pH\",u\"sulphates\",u\"alcohol\"]))"
   ]
  },
  {
   "cell_type": "markdown",
   "metadata": {},
   "source": [
    "Строки полученной таблицы описывают математическую корреляцию , первая скрытая переменная , отображающая примерно 28 процентов информации в наборе , вычисляется по следующей формуле.\n",
    "\n",
    "hiden_var_1 = (fixed acidity*0.489314)+(volatile acidity*-0.238584)+(citric acid*0.463632)...+(alcohol*-0.113232)\n",
    "\n",
    "Назначить разумное имя каждой новой переменной достаточно сложная задача , часто требуется консультация эксперта в изучаемой области."
   ]
  },
  {
   "cell_type": "code",
   "execution_count": 2,
   "metadata": {},
   "outputs": [
    {
     "name": "stderr",
     "output_type": "stream",
     "text": [
      "C:\\ProgramData\\Anaconda2\\lib\\site-packages\\sklearn\\cross_validation.py:41: DeprecationWarning: This module was deprecated in version 0.18 in favor of the model_selection module into which all the refactored classes and functions are moved. Also note that the interface of the new CV iterators are different from that of this module. This module will be removed in 0.20.\n",
      "  \"This module will be removed in 0.20.\", DeprecationWarning)\n"
     ]
    },
    {
     "ename": "NameError",
     "evalue": "name 'X' is not defined",
     "output_type": "error",
     "traceback": [
      "\u001b[1;31m---------------------------------------------------------------------------\u001b[0m",
      "\u001b[1;31mNameError\u001b[0m                                 Traceback (most recent call last)",
      "\u001b[1;32m<ipython-input-2-0f14e45cdc20>\u001b[0m in \u001b[0;36m<module>\u001b[1;34m()\u001b[0m\n\u001b[0;32m      5\u001b[0m \u001b[1;31m#Прогнозирование качества вина до применения анализа главных компонент\u001b[0m\u001b[1;33m\u001b[0m\u001b[1;33m\u001b[0m\u001b[0m\n\u001b[0;32m      6\u001b[0m \u001b[0mgnb\u001b[0m \u001b[1;33m=\u001b[0m \u001b[0mGaussianNB\u001b[0m\u001b[1;33m(\u001b[0m\u001b[1;33m)\u001b[0m\u001b[1;33m\u001b[0m\u001b[0m\n\u001b[1;32m----> 7\u001b[1;33m \u001b[0mfit\u001b[0m \u001b[1;33m=\u001b[0m \u001b[0mgnb\u001b[0m\u001b[1;33m.\u001b[0m\u001b[0mfit\u001b[0m\u001b[1;33m(\u001b[0m\u001b[0mX\u001b[0m\u001b[1;33m,\u001b[0m\u001b[0my\u001b[0m\u001b[1;33m)\u001b[0m\u001b[1;31m#Подгонка данных\u001b[0m\u001b[1;33m\u001b[0m\u001b[0m\n\u001b[0m\u001b[0;32m      8\u001b[0m \u001b[0mpred\u001b[0m \u001b[1;33m=\u001b[0m \u001b[0mfit\u001b[0m\u001b[1;33m.\u001b[0m\u001b[0mpredict\u001b[0m\u001b[1;33m(\u001b[0m\u001b[0mX\u001b[0m\u001b[1;33m)\u001b[0m\u001b[1;31m#Прогнозирование для неизвестных данных\u001b[0m\u001b[1;33m\u001b[0m\u001b[0m\n\u001b[0;32m      9\u001b[0m \u001b[1;32mprint\u001b[0m\u001b[1;33m(\u001b[0m\u001b[0mconfusion_matrix\u001b[0m\u001b[1;33m(\u001b[0m\u001b[0mpred\u001b[0m\u001b[1;33m,\u001b[0m\u001b[0my\u001b[0m\u001b[1;33m)\u001b[0m\u001b[1;33m)\u001b[0m\u001b[1;33m\u001b[0m\u001b[0m\n",
      "\u001b[1;31mNameError\u001b[0m: name 'X' is not defined"
     ]
    }
   ],
   "source": [
    "from sklearn.cross_validation import train_test_split\n",
    "from sklearn.naive_bayes import GaussianNB\n",
    "from sklearn.metrics import confusion_matrix\n",
    "import pylab as plt\n",
    "#Прогнозирование качества вина до применения анализа главных компонент\n",
    "gnb = GaussianNB()\n",
    "fit = gnb.fit(X,y)#Подгонка данных\n",
    "pred = fit.predict(X)#Прогнозирование для неизвестных данных\n",
    "print(confusion_matrix(pred,y))\n",
    "\n",
    "print('Правильно классифицированных случаев : ',confusion_matrix(pred,y).trace(),' из ',len(y))"
   ]
  },
  {
   "cell_type": "code",
   "execution_count": null,
   "metadata": {},
   "outputs": [],
   "source": []
  },
  {
   "cell_type": "code",
   "execution_count": 1,
   "metadata": {},
   "outputs": [
    {
     "ename": "NameError",
     "evalue": "name 'PCA' is not defined",
     "output_type": "error",
     "traceback": [
      "\u001b[1;31m---------------------------------------------------------------------------\u001b[0m",
      "\u001b[1;31mNameError\u001b[0m                                 Traceback (most recent call last)",
      "\u001b[1;32m<ipython-input-1-fcbf8626fd6f>\u001b[0m in \u001b[0;36m<module>\u001b[1;34m()\u001b[0m\n\u001b[0;32m      1\u001b[0m \u001b[0mpredicted_correct\u001b[0m \u001b[1;33m=\u001b[0m \u001b[1;33m[\u001b[0m\u001b[1;33m]\u001b[0m \u001b[1;31m#Массив будет наполняться спрогнозированными компонентами\u001b[0m\u001b[1;33m\u001b[0m\u001b[0m\n\u001b[0;32m      2\u001b[0m \u001b[1;32mfor\u001b[0m \u001b[0mi\u001b[0m \u001b[1;32min\u001b[0m \u001b[0mrange\u001b[0m\u001b[1;33m(\u001b[0m\u001b[1;36m1\u001b[0m\u001b[1;33m,\u001b[0m\u001b[1;36m10\u001b[0m\u001b[1;33m)\u001b[0m\u001b[1;33m:\u001b[0m\u001b[1;33m\u001b[0m\u001b[0m\n\u001b[1;32m----> 3\u001b[1;33m     \u001b[0mmodel\u001b[0m \u001b[1;33m=\u001b[0m \u001b[0mPCA\u001b[0m\u001b[1;33m(\u001b[0m\u001b[0mn_components\u001b[0m \u001b[1;33m=\u001b[0m \u001b[0mi\u001b[0m\u001b[1;33m)\u001b[0m\u001b[1;33m\u001b[0m\u001b[0m\n\u001b[0m\u001b[0;32m      4\u001b[0m     \u001b[0mresults\u001b[0m \u001b[1;33m=\u001b[0m \u001b[0mmodel\u001b[0m\u001b[1;33m.\u001b[0m\u001b[0mfit\u001b[0m\u001b[1;33m(\u001b[0m\u001b[0mX\u001b[0m\u001b[1;33m)\u001b[0m\u001b[1;33m\u001b[0m\u001b[0m\n\u001b[0;32m      5\u001b[0m     \u001b[0mZ\u001b[0m \u001b[1;33m=\u001b[0m \u001b[0mresults\u001b[0m\u001b[1;33m.\u001b[0m\u001b[0mtransform\u001b[0m\u001b[1;33m(\u001b[0m\u001b[0mX\u001b[0m\u001b[1;33m)\u001b[0m\u001b[1;31m#проецирует Z на X\u001b[0m\u001b[1;33m\u001b[0m\u001b[0m\n",
      "\u001b[1;31mNameError\u001b[0m: name 'PCA' is not defined"
     ]
    }
   ],
   "source": [
    "predicted_correct = [] #Массив будет наполняться спрогнозированными компонентами\n",
    "for i in range(1,10):\n",
    "    model = PCA(n_components = i)\n",
    "    results = model.fit(X)\n",
    "    Z = results.transform(X)#проецирует Z на X\n",
    "    fit = gnb.fit(Z,y)\n",
    "    pred = fit.predict(Z)\n",
    "    predicted_correct.append(confusion_matrix(pred,y).trace())\n",
    "    print('Правильно классифицированных случаев : ',confusion_matrix(pred,y).trace(),' из ',len(y),' при ',i)\n",
    "plt.plot(predicted_correct)\n",
    "plt.show();"
   ]
  },
  {
   "cell_type": "markdown",
   "metadata": {},
   "source": [
    "Из графика видно , что добавление новых скрытых переменных в модель до определенного момента сильно повышает прогностическую способность(У) , но потом прирост замедляется. Из графика видно , что всего с 3 скрытыми переменными классификатор лучше справляется с прогнозированием качества вина , чем с 11 исходными.(Так же , что добавление скрытых переменных свыше 5 не увеличивает прогностическую спобность в такой мере , как первые 5. Это показывает , что выбор 5 скрытых переменных как порог отсечения был удачным.)"
   ]
  },
  {
   "cell_type": "markdown",
   "metadata": {},
   "source": [
    "# Кластеризация\n",
    "В этом примере будет использоваться алгоритм k-средних , этот алгоритм хорошо дает общее представление о данных , однако он чувствителен к начальным значениям , поэтому при каждом выполнении алгоритма вы можете получать разные кластеры , если только начальные значения не будут задаваться вручную посредством определения затравки(константы для генератора начальных значений).Другой недостаток - необходимость задавать количество кластеров заранее. Часто это приводит к серии проб и ошибок."
   ]
  },
  {
   "cell_type": "code",
   "execution_count": 4,
   "metadata": {},
   "outputs": [
    {
     "name": "stdout",
     "output_type": "stream",
     "text": [
      "   sepal length (cm)  sepal width (cm)  petal length (cm)  petal width (cm)  \\\n",
      "0                5.1               3.5                1.4               0.2   \n",
      "1                4.9               3.0                1.4               0.2   \n",
      "2                4.7               3.2                1.3               0.2   \n",
      "3                4.6               3.1                1.5               0.2   \n",
      "4                5.0               3.6                1.4               0.2   \n",
      "\n",
      "   cluster  target     C  \n",
      "0        0       0  null  \n",
      "1        0       0  null  \n",
      "2        0       0  null  \n",
      "3        0       0  null  \n",
      "4        0       0  null  \n",
      "                 C\n",
      "cluster target    \n",
      "0       0       50\n",
      "1       1       48\n",
      "        2       14\n",
      "2       1        2\n",
      "        2       36\n"
     ]
    }
   ],
   "source": [
    "import sklearn\n",
    "from sklearn.datasets import load_iris\n",
    "from sklearn import cluster\n",
    "import pandas as pd\n",
    "\n",
    "#type bunch(super dictionary (as JSON in jscript))\n",
    "data = load_iris()# .data - array data  .target .target_names .feature_names\n",
    "data??\n",
    "X=pd.DataFrame(data.data, columns = list(data.feature_names))\n",
    "model = cluster.KMeans(n_clusters=3, random_state=25)#количество кластеров\n",
    "results = model.fit(X)\n",
    "X[\"cluster\"] = results.predict(X)\n",
    "X[\"target\"]=data.target\n",
    "X[\"C\"] = \"null\"\n",
    "print(X[:5])\n",
    "classification_result = X[[\"cluster\",\"target\",\"C\"]].groupby([\"cluster\",\"target\"]).agg(\"count\")\n",
    "#Сначала выбираем столбцы [\"cluster\",\"target\",\"C\"] и после группируем по столбцам [\"cluster\",\"target\"]\n",
    "#и строка группы вычисляется подсчетом\n",
    "print(classification_result)"
   ]
  },
  {
   "cell_type": "markdown",
   "metadata": {},
   "source": [
    "Матрица представляющая этот результат классификации , позволяет увидеть , насколько успешно прошла кластеризация . Для кластера 0 всё прошло идеально . В кластерах 1 и 2 встречается небольшая путаница , но в общем мы получаем всего 16(14+2) неверных классификаций из 150."
   ]
  },
  {
   "cell_type": "markdown",
   "metadata": {},
   "source": [
    "# Итоги\n",
    "\n",
    "<b>Процесс моделирования состоит из 4 фаз:</b>\n",
    "\n",
    "1)Планирование показателей , подготовка данных и параметризация модели - вы определяете входные параметры\\\\ и переменные для своей модели.\n",
    "\n",
    "2)Тренировка модели - модель получает данные и изучает закономерности , скрытые в данных.\n",
    "\n",
    "3)Выбор и проверка адекватности модели - модель может работать хорошо или плохо; на основании её эффективности выбирается модель , которая дает самый практичный результат.\n",
    "\n",
    "4)Применение тренировочной модели к незнакомым данным - убедившись в том , что модель надежна , вы передаете ей новые данные. \n",
    "Если работа была выполнена качественно, модель сообщает допольнительную информацию или дает хороший прогноз того , что ждет вас в будущем.\n",
    "\n",
    "\n",
    "<b>Две основные разновидности методов машинного обучения:</b>\n",
    "\n",
    "1) Контролируемые - методы обучения , требующие помеченных данных.\n",
    "\n",
    "2) Неконтролируемые - методы обучения , не требующие помеченных данных , но обычно менее точные или надежные , чем контролируемые\n",
    "\n",
    "\n",
    "Частично контролируемые методы занимают промежуточное положение и используются в тех случаях , когда помечена только небольшая часть данных.\n",
    "\n"
   ]
  },
  {
   "cell_type": "code",
   "execution_count": 1,
   "metadata": {
    "collapsed": true
   },
   "outputs": [],
   "source": [
    "#Наивный байесовский классификатор BC\n",
    "# Анализ первичных компонент PCA"
   ]
  },
  {
   "cell_type": "markdown",
   "metadata": {},
   "source": [
    "# INTRODUCTION TO NEURAL NETWORK\n",
    "Рассмотрим нейрон , он бинарен , на выход дает да, если общее значение на вход от всех больше порогового значения , при этом все остальные нейроны воспринимаются одинаково\n",
    "[title](nn1.png)\n",
    "Но что делать если мы считаем некоторые нейроны , например ответственные за визуализацию более важными , нам нужно добавить к ним веса.(Скалярное произведение векторов весов*сингал )\n",
    "[title](nn2.png)\n",
    "Но если нам нужно использовать не только да и нет , то нам нужно заменить пороговое значение на что то более интересное(На функцию , кои называются сигмоиды)\n",
    "[title](nn3.png)\n",
    "w-вес , b - смещение\n",
    "<p>Подбор весов для алгебры логики\n",
    "<p>Конъюнкция \n",
    "   $y=x_1*x_2$ \n",
    "    <p>       $y=\\sigma(w_1x_1+w_2x_2+b)>0$\n",
    "    <p> Подбирая , мы получаем : $y=\\sigma(Ax_1+Ax_2-A)>0$\n",
    "<p>Дизъюнкция\n",
    "   $y=x_1+x_2$ \n",
    "    <p>       $y=\\sigma(w_1x_1+w_2x_2+b)>0$\n",
    "    <p> Подбирая , мы получаем : $y=\\sigma(Ax_1+Ax_2-A/2)>0$\n",
    "<p>XOR\n",
    "   $y=x_1 XOR x_2 = (X_1+X_2)*(!X_1+X_2!)$(Либо хотя бы одна еденица , и исключаем когда обе единицы)\n",
    "    <p>     \n",
    "    Нам неудастся расписать XOR как один нейрон\n",
    "    <p>Нам придется использовать 2 предыдущих нейрона(2 дизъюнкии, объединенные в конъюнкцию)\n",
    "        Задача нейронного обучения в апроксимации , нахождении таких весов , чтобы возможно было приблизиться к любой хорошей функции\n",
    "</p>\n",
    "[title](nn4.png)  \n",
    "[title](nn5.png)  \n",
    "[title](nn6.png)  \n",
    "[title](nn7.png)  \n",
    "Отличная визуализация http://neuralnetworksanddeeplearning.com/chap4.html\n",
    "\n",
    "Обучить нейронную сеть - подобрать значения всех настраиваемыхпараметров (веса и смещения).\n",
    "<p>Два этапа:</p>\n",
    "    1)Задать функцию потерь $\\digamma$\n",
    "    <p>\n",
    "    2)Подобрать веса, минимизирующие$\\digamma$\n",
    "[title](nn8.png)"
   ]
  },
  {
   "cell_type": "markdown",
   "metadata": {},
   "source": [
    "# Работа с большими данными на одном компьютере\n",
    "Основные проблемы\n",
    "1)Нехватка памяти\n",
    "2)Процессы , которые не завершаются\n",
    "3)Одни компоненты простаивают , другия становятся узким местом\n",
    "4)Недостаточная скорость\n",
    "\n",
    "Если сокращать переменные , как это делается в PCA , то мы сократим объем информации , но увеличим работу процессора. \n",
    "<p><b>Решения:</b>\n",
    "1)Правильный выбор алгоритмов\n",
    "    <p>*Онлайновые алгоритмы(использовал и забыл)\n",
    "        Рассмотрим Тренировку перцептрона\n",
    "    \n",
    "    "
   ]
  },
  {
   "cell_type": "code",
   "execution_count": 50,
   "metadata": {
    "collapsed": true
   },
   "outputs": [],
   "source": [
    "import numpy as np\n",
    "class perceptron():\n",
    "    def __init__(self,X,y,treshold = 0.5,\n",
    "                learning_rate=0.1,max_epochs = 10):\n",
    "        self.treshold=treshold\n",
    "        self.learning_rate=learning_rate\n",
    "        self.X=X\n",
    "        self.y=y\n",
    "        self.max_epochs=max_epochs\n",
    "    #Каждому наблюдению будет назначен вес для всех входящих наблюдений.\n",
    "    #Либо все веса 0 , либо небольшие случайные значения\n",
    "    def initialize(self,init_type = 'zeros'):\n",
    "        if init_type=='random':\n",
    "            self.weights = np.random.rand(len(self.X[0]))*0.05\n",
    "        if init_type=='zeros':\n",
    "            self.weights = np.zeros(len(self.X[0]))\n",
    "    #Функция тренировки , данные перебираются и передаются в метод train_observation\n",
    "    #А он в свою очередь меняет веса , до тех пор пока количество ошибок не будет 0\n",
    "    def train(self):\n",
    "        epoch=0\n",
    "        while True:\n",
    "            error_count = 0\n",
    "            epoch+=1\n",
    "            for(X,y) in zip(self.X, self.y):\n",
    "                error_count +=self.train_observation(X,y,error_count)#По одному наблюдению за раз\n",
    "                \n",
    "            if error_count==0:\n",
    "                print(\"training successful\")\n",
    "                break\n",
    "            if epoch >= self.max_epochs:\n",
    "                print(\"reached max epochs , no perfect prediction\")\n",
    "                break\n",
    "    #Надо понимать , что X коэфициенты уравнения , а y их target (целевое)\n",
    "    def train_observation(self,X,y, error_count):\n",
    "        #Подставляем в наше уравнение веса.1 проход: X=(1,0,0)<=>ax1 , a = 0 , получаем 0\n",
    "        #И округляем наше значение до 0 или 1\n",
    "        result = np.dot(X,self.weights)>self.treshold\n",
    "        \n",
    "        error = y - result #Если получившийся и ожидаемый результат сошелся идем далее\n",
    "        # -1 мы под графиком , 1 на графике , 0 достаточно близко к графику\n",
    "        if error!=0:\n",
    "            error_count+=1\n",
    "            for index, value in enumerate(X):\n",
    "                self.weights[index]+=self.learning_rate*error*value# -+0.1 Если не дотягиваем то +0.1 , если перелетаем , то -0.1\n",
    "                #Веса меняются в зависимости от значения матрицы XX\n",
    "        return error_count\n",
    "    \n",
    "    def predict(self, X):\n",
    "        return int(np.dot(X, self.weights) > self.treshold)\n",
    "    def print(self):\n",
    "        print(self.weights)"
   ]
  },
  {
   "cell_type": "code",
   "execution_count": 54,
   "metadata": {},
   "outputs": [
    {
     "name": "stdout",
     "output_type": "stream",
     "text": [
      "training successful\n",
      "0\n",
      "[ 0.8 -0.2 -0.1]\n"
     ]
    }
   ],
   "source": [
    "X = [(1,0,0),(1,1,0),(1,1,1),(1,1,1),(1,0,1),(1,0,1)]\n",
    "y = [1,1,0,0,1,1]\n",
    "\n",
    "p = perceptron(X,y)\n",
    "p.initialize()\n",
    "p.train()\n",
    "print(p.predict((1,1,1)))\n",
    "p.print();"
   ]
  },
  {
   "cell_type": "markdown",
   "metadata": {
    "collapsed": true
   },
   "source": [
    "# Разбиение большой матрицы на несколько меньших\n",
    "$A+B = [A_1/A_2]+[B_1/B_2]$\n",
    "<p>bcolz - библиотека , обеспечивающая компакное хранение массивов данных и использует жесткий диск , если данные не помещаются в основной памяти\n",
    "<p>Dask - библиотека ,позволяющая оптимизировать последовотельность вычислений и упрощает их реализацию . Dask may not be included in standard package."
   ]
  },
  {
   "cell_type": "code",
   "execution_count": 31,
   "metadata": {},
   "outputs": [
    {
     "name": "stdout",
     "output_type": "stream",
     "text": [
      "[[  0.00000000e+00]\n",
      " [  1.00000001e+00]\n",
      " [  2.00000003e+00]\n",
      " ..., \n",
      " [  4.99700007e+03]\n",
      " [  4.99800007e+03]\n",
      " [  4.99900007e+03]]\n"
     ]
    }
   ],
   "source": [
    "import dask.array as da\n",
    "import bcolz as bc\n",
    "import numpy as np\n",
    "import dask\n",
    "\n",
    "n = int(1e4)#10.000\n",
    "#numpy-расширение массива , которое может выгружаться на диск , данные в нем хранятся в сжатом виде \n",
    "ar = bc.carray(np.arange(n).reshape(n//2,2), dtype ='float64', rootdir = 'ar.bcolz', mode = 'w')#ar.bcolz назвние папки\n",
    "y = bc.carray(np.arange(n//2).reshape(n//2,1), dtype ='float64', rootdir = 'yy.bcolz', mode = 'w')\n",
    "\n",
    "dax = da.from_array(ar, chunks=(5,5))#Создаются блочные матрицы для свободных ar и y переменных.\n",
    "##\n",
    "dy = da.from_array(y, chunks=(5,5))#from_array считывает данные с озу или с жеского\n",
    "#каждый блок 5х5 , кроме того когда меньше 5 данных\n",
    "XTX = dax.T.dot(dax)#ТХТ - произедение матрицы на её транспонированную версию\n",
    "Xy = dax.T.dot(dy)#Матрицы только определены , но еще не вычисляются\n",
    "\n",
    "coefficients = np.linalg.inv(XTX.compute()).dot(Xy.compute())\n",
    "coef = da.from_array(coefficients, chunks=(5,5))\n",
    "\n",
    "ar.flush()\n",
    "y.flush()\n",
    "\n",
    "predictions = dax.dot(coef).compute()\n",
    "print(predictions)"
   ]
  },
  {
   "cell_type": "code",
   "execution_count": null,
   "metadata": {
    "collapsed": true
   },
   "outputs": [],
   "source": []
  },
  {
   "cell_type": "code",
   "execution_count": null,
   "metadata": {
    "collapsed": true
   },
   "outputs": [],
   "source": []
  }
 ],
 "metadata": {
  "kernelspec": {
   "display_name": "Python 2",
   "language": "python",
   "name": "python2"
  },
  "language_info": {
   "codemirror_mode": {
    "name": "ipython",
    "version": 2
   },
   "file_extension": ".py",
   "mimetype": "text/x-python",
   "name": "python",
   "nbconvert_exporter": "python",
   "pygments_lexer": "ipython2",
   "version": "2.7.14"
  }
 },
 "nbformat": 4,
 "nbformat_minor": 2
}
